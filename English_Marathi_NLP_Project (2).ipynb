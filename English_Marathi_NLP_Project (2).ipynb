{
  "nbformat": 4,
  "nbformat_minor": 0,
  "metadata": {
    "colab": {
      "provenance": []
    },
    "kernelspec": {
      "name": "python3",
      "display_name": "Python 3"
    },
    "language_info": {
      "name": "python"
    },
    "accelerator": "GPU",
    "gpuClass": "standard"
  },
  "cells": [
    {
      "cell_type": "markdown",
      "source": [
        "**ENGLISH - MARATHI NLP PROJECT**"
      ],
      "metadata": {
        "id": "4Rktr4MlgoBR"
      }
    },
    {
      "cell_type": "markdown",
      "source": [
        "1.Importing Libraries"
      ],
      "metadata": {
        "id": "qU0p0g6UgyBs"
      }
    },
    {
      "cell_type": "code",
      "execution_count": null,
      "metadata": {
        "id": "uSJnWG2Jo-ek"
      },
      "outputs": [],
      "source": [
        "import pandas as pd\n",
        "import numpy as np\n",
        "import string\n",
        "from string import digits\n",
        "import matplotlib.pyplot as plt\n",
        "import re\n",
        "from sklearn.utils import shuffle\n",
        "from sklearn.model_selection import train_test_split\n",
        "from keras.layers import Input, LSTM, Embedding, Dense\n",
        "from keras.models import Model"
      ]
    },
    {
      "cell_type": "markdown",
      "source": [
        "2.Mounting Google Drive"
      ],
      "metadata": {
        "id": "vAgn-Zxxg4CX"
      }
    },
    {
      "cell_type": "code",
      "source": [
        "from google.colab import drive\n",
        "\n",
        "drive.mount('/content/drive/')"
      ],
      "metadata": {
        "colab": {
          "base_uri": "https://localhost:8080/"
        },
        "id": "ghlept2lzUcP",
        "outputId": "c8fb6b8e-135d-43f7-88b1-67f416b2331b"
      },
      "execution_count": null,
      "outputs": [
        {
          "output_type": "stream",
          "name": "stdout",
          "text": [
            "Mounted at /content/drive/\n"
          ]
        }
      ]
    },
    {
      "cell_type": "markdown",
      "source": [
        "3. Importing The Data"
      ],
      "metadata": {
        "id": "Dd-pcpEHg_tE"
      }
    },
    {
      "cell_type": "code",
      "source": [
        "lines= pd.read_table('/content/drive/MyDrive/NLP pro/eng-mara.txt', names=['eng', 'mar'])"
      ],
      "metadata": {
        "id": "YDrP5D5XrQtO"
      },
      "execution_count": null,
      "outputs": []
    },
    {
      "cell_type": "code",
      "source": [
        "lines.shape"
      ],
      "metadata": {
        "colab": {
          "base_uri": "https://localhost:8080/"
        },
        "id": "QzWFihSKsEo0",
        "outputId": "8d8f153a-eaa0-4cf5-8efd-a83aecea1a46"
      },
      "execution_count": null,
      "outputs": [
        {
          "output_type": "execute_result",
          "data": {
            "text/plain": [
              "(41028, 2)"
            ]
          },
          "metadata": {},
          "execution_count": 4
        }
      ]
    },
    {
      "cell_type": "markdown",
      "source": [
        "4. Cleaning The Data"
      ],
      "metadata": {
        "id": "BYqIOPHBhRZg"
      }
    },
    {
      "cell_type": "code",
      "source": [
        "lines.eng=lines.eng.apply(lambda x: x.lower())\n",
        "lines.mar=lines.mar.apply(lambda x: x.lower())"
      ],
      "metadata": {
        "id": "kc-Wxu5czlLD"
      },
      "execution_count": null,
      "outputs": []
    },
    {
      "cell_type": "code",
      "source": [
        "lines.eng=lines.eng.apply(lambda x: re.sub(\"'\", '', x))\n",
        "lines.mar=lines.mar.apply(lambda x: re.sub(\"'\", '', x))"
      ],
      "metadata": {
        "id": "K1Fan-Rxznyy"
      },
      "execution_count": null,
      "outputs": []
    },
    {
      "cell_type": "code",
      "source": [
        "exclude = set(string.punctuation) # Set of all special characters\n",
        "# Remove all the special characters\n",
        "lines.eng=lines.eng.apply(lambda x: ''.join(ch for ch in x if ch not in exclude))\n",
        "lines.mar=lines.mar.apply(lambda x: ''.join(ch for ch in x if ch not in exclude))"
      ],
      "metadata": {
        "id": "DLg_IR8bzqGy"
      },
      "execution_count": null,
      "outputs": []
    },
    {
      "cell_type": "code",
      "source": [
        "remove_digits = str.maketrans('', '', digits)\n",
        "lines.eng=lines.eng.apply(lambda x: x.translate(remove_digits))\n",
        "lines.mar = lines.mar.apply(lambda x: re.sub(\"[२३०८१५७९४६]\", \"\", x))"
      ],
      "metadata": {
        "id": "qEt_NT2lzsWD"
      },
      "execution_count": null,
      "outputs": []
    },
    {
      "cell_type": "code",
      "source": [
        "# Remove extra spaces\n",
        "lines.eng=lines.eng.apply(lambda x: x.strip())\n",
        "lines.mar=lines.mar.apply(lambda x: x.strip())\n",
        "lines.eng=lines.eng.apply(lambda x: re.sub(\" +\", \" \", x))\n",
        "lines.mar=lines.mar.apply(lambda x: re.sub(\" +\", \" \", x))"
      ],
      "metadata": {
        "id": "MUumLglrzura"
      },
      "execution_count": null,
      "outputs": []
    },
    {
      "cell_type": "code",
      "source": [
        "# Add start and end tokens to target sequences\n",
        "lines.mar = lines.mar.apply(lambda x : 'START_ '+ x + ' _END')"
      ],
      "metadata": {
        "id": "QOMUs65ezzVK"
      },
      "execution_count": null,
      "outputs": []
    },
    {
      "cell_type": "code",
      "source": [
        "lines.sample(10)"
      ],
      "metadata": {
        "colab": {
          "base_uri": "https://localhost:8080/",
          "height": 363
        },
        "id": "EDrIArXxz1ka",
        "outputId": "feb6c360-477f-4a00-c77e-67ee2374ab32"
      },
      "execution_count": null,
      "outputs": [
        {
          "output_type": "execute_result",
          "data": {
            "text/plain": [
              "                                                     eng  \\\n",
              "11899                                 it wasnt expensive   \n",
              "8936                                   are you going too   \n",
              "20937                             why dont you ever help   \n",
              "30417                       were leaving in five minutes   \n",
              "26168                          whats your favorite class   \n",
              "7471                                   i know that story   \n",
              "20416                            this is my first cruise   \n",
              "40518  the president of the us paid a formal visit to...   \n",
              "12284                                the train just left   \n",
              "735                                           tom failed   \n",
              "\n",
              "                                                     mar  \n",
              "11899                            START_ महाग नव्हतं _END  \n",
              "8936                         START_ तूसुद्धा जोतोयस _END  \n",
              "20937                 START_ तू कधी मदत का नाही करत _END  \n",
              "30417           START_ आम्ही पाच मिनिटांत निघत आहोत _END  \n",
              "26168              START_ तुझा आवडता वर्ग कोणता आहे _END  \n",
              "7471                  START_ मला ती गोष्ट माहीत आहे _END  \n",
              "20416               START_ ही माझी पहिलीच क्रूझ आहे _END  \n",
              "40518  START_ यूएसच्या राष्ट्राध्यक्षाने चीनला औपचारि...  \n",
              "12284                   START_ ट्रेन नुक्तीच निघाली _END  \n",
              "735                           START_ टॉम अपयशी ठरला _END  "
            ],
            "text/html": [
              "\n",
              "  <div id=\"df-5c5ee999-2429-4cce-a9ec-2126a3c9bedf\">\n",
              "    <div class=\"colab-df-container\">\n",
              "      <div>\n",
              "<style scoped>\n",
              "    .dataframe tbody tr th:only-of-type {\n",
              "        vertical-align: middle;\n",
              "    }\n",
              "\n",
              "    .dataframe tbody tr th {\n",
              "        vertical-align: top;\n",
              "    }\n",
              "\n",
              "    .dataframe thead th {\n",
              "        text-align: right;\n",
              "    }\n",
              "</style>\n",
              "<table border=\"1\" class=\"dataframe\">\n",
              "  <thead>\n",
              "    <tr style=\"text-align: right;\">\n",
              "      <th></th>\n",
              "      <th>eng</th>\n",
              "      <th>mar</th>\n",
              "    </tr>\n",
              "  </thead>\n",
              "  <tbody>\n",
              "    <tr>\n",
              "      <th>11899</th>\n",
              "      <td>it wasnt expensive</td>\n",
              "      <td>START_ महाग नव्हतं _END</td>\n",
              "    </tr>\n",
              "    <tr>\n",
              "      <th>8936</th>\n",
              "      <td>are you going too</td>\n",
              "      <td>START_ तूसुद्धा जोतोयस _END</td>\n",
              "    </tr>\n",
              "    <tr>\n",
              "      <th>20937</th>\n",
              "      <td>why dont you ever help</td>\n",
              "      <td>START_ तू कधी मदत का नाही करत _END</td>\n",
              "    </tr>\n",
              "    <tr>\n",
              "      <th>30417</th>\n",
              "      <td>were leaving in five minutes</td>\n",
              "      <td>START_ आम्ही पाच मिनिटांत निघत आहोत _END</td>\n",
              "    </tr>\n",
              "    <tr>\n",
              "      <th>26168</th>\n",
              "      <td>whats your favorite class</td>\n",
              "      <td>START_ तुझा आवडता वर्ग कोणता आहे _END</td>\n",
              "    </tr>\n",
              "    <tr>\n",
              "      <th>7471</th>\n",
              "      <td>i know that story</td>\n",
              "      <td>START_ मला ती गोष्ट माहीत आहे _END</td>\n",
              "    </tr>\n",
              "    <tr>\n",
              "      <th>20416</th>\n",
              "      <td>this is my first cruise</td>\n",
              "      <td>START_ ही माझी पहिलीच क्रूझ आहे _END</td>\n",
              "    </tr>\n",
              "    <tr>\n",
              "      <th>40518</th>\n",
              "      <td>the president of the us paid a formal visit to...</td>\n",
              "      <td>START_ यूएसच्या राष्ट्राध्यक्षाने चीनला औपचारि...</td>\n",
              "    </tr>\n",
              "    <tr>\n",
              "      <th>12284</th>\n",
              "      <td>the train just left</td>\n",
              "      <td>START_ ट्रेन नुक्तीच निघाली _END</td>\n",
              "    </tr>\n",
              "    <tr>\n",
              "      <th>735</th>\n",
              "      <td>tom failed</td>\n",
              "      <td>START_ टॉम अपयशी ठरला _END</td>\n",
              "    </tr>\n",
              "  </tbody>\n",
              "</table>\n",
              "</div>\n",
              "      <button class=\"colab-df-convert\" onclick=\"convertToInteractive('df-5c5ee999-2429-4cce-a9ec-2126a3c9bedf')\"\n",
              "              title=\"Convert this dataframe to an interactive table.\"\n",
              "              style=\"display:none;\">\n",
              "        \n",
              "  <svg xmlns=\"http://www.w3.org/2000/svg\" height=\"24px\"viewBox=\"0 0 24 24\"\n",
              "       width=\"24px\">\n",
              "    <path d=\"M0 0h24v24H0V0z\" fill=\"none\"/>\n",
              "    <path d=\"M18.56 5.44l.94 2.06.94-2.06 2.06-.94-2.06-.94-.94-2.06-.94 2.06-2.06.94zm-11 1L8.5 8.5l.94-2.06 2.06-.94-2.06-.94L8.5 2.5l-.94 2.06-2.06.94zm10 10l.94 2.06.94-2.06 2.06-.94-2.06-.94-.94-2.06-.94 2.06-2.06.94z\"/><path d=\"M17.41 7.96l-1.37-1.37c-.4-.4-.92-.59-1.43-.59-.52 0-1.04.2-1.43.59L10.3 9.45l-7.72 7.72c-.78.78-.78 2.05 0 2.83L4 21.41c.39.39.9.59 1.41.59.51 0 1.02-.2 1.41-.59l7.78-7.78 2.81-2.81c.8-.78.8-2.07 0-2.86zM5.41 20L4 18.59l7.72-7.72 1.47 1.35L5.41 20z\"/>\n",
              "  </svg>\n",
              "      </button>\n",
              "      \n",
              "  <style>\n",
              "    .colab-df-container {\n",
              "      display:flex;\n",
              "      flex-wrap:wrap;\n",
              "      gap: 12px;\n",
              "    }\n",
              "\n",
              "    .colab-df-convert {\n",
              "      background-color: #E8F0FE;\n",
              "      border: none;\n",
              "      border-radius: 50%;\n",
              "      cursor: pointer;\n",
              "      display: none;\n",
              "      fill: #1967D2;\n",
              "      height: 32px;\n",
              "      padding: 0 0 0 0;\n",
              "      width: 32px;\n",
              "    }\n",
              "\n",
              "    .colab-df-convert:hover {\n",
              "      background-color: #E2EBFA;\n",
              "      box-shadow: 0px 1px 2px rgba(60, 64, 67, 0.3), 0px 1px 3px 1px rgba(60, 64, 67, 0.15);\n",
              "      fill: #174EA6;\n",
              "    }\n",
              "\n",
              "    [theme=dark] .colab-df-convert {\n",
              "      background-color: #3B4455;\n",
              "      fill: #D2E3FC;\n",
              "    }\n",
              "\n",
              "    [theme=dark] .colab-df-convert:hover {\n",
              "      background-color: #434B5C;\n",
              "      box-shadow: 0px 1px 3px 1px rgba(0, 0, 0, 0.15);\n",
              "      filter: drop-shadow(0px 1px 2px rgba(0, 0, 0, 0.3));\n",
              "      fill: #FFFFFF;\n",
              "    }\n",
              "  </style>\n",
              "\n",
              "      <script>\n",
              "        const buttonEl =\n",
              "          document.querySelector('#df-5c5ee999-2429-4cce-a9ec-2126a3c9bedf button.colab-df-convert');\n",
              "        buttonEl.style.display =\n",
              "          google.colab.kernel.accessAllowed ? 'block' : 'none';\n",
              "\n",
              "        async function convertToInteractive(key) {\n",
              "          const element = document.querySelector('#df-5c5ee999-2429-4cce-a9ec-2126a3c9bedf');\n",
              "          const dataTable =\n",
              "            await google.colab.kernel.invokeFunction('convertToInteractive',\n",
              "                                                     [key], {});\n",
              "          if (!dataTable) return;\n",
              "\n",
              "          const docLinkHtml = 'Like what you see? Visit the ' +\n",
              "            '<a target=\"_blank\" href=https://colab.research.google.com/notebooks/data_table.ipynb>data table notebook</a>'\n",
              "            + ' to learn more about interactive tables.';\n",
              "          element.innerHTML = '';\n",
              "          dataTable['output_type'] = 'display_data';\n",
              "          await google.colab.output.renderOutput(dataTable, element);\n",
              "          const docLink = document.createElement('div');\n",
              "          docLink.innerHTML = docLinkHtml;\n",
              "          element.appendChild(docLink);\n",
              "        }\n",
              "      </script>\n",
              "    </div>\n",
              "  </div>\n",
              "  "
            ]
          },
          "metadata": {},
          "execution_count": 11
        }
      ]
    },
    {
      "cell_type": "code",
      "source": [
        "# Vocabulary of English\n",
        "all_eng_words=set()\n",
        "for eng in lines.eng:\n",
        "    for word in eng.split():\n",
        "        if word not in all_eng_words:\n",
        "            all_eng_words.add(word)\n",
        "\n",
        "# Vocabulary of Marathi\n",
        "all_marathi_words=set()\n",
        "for mar in lines.mar:\n",
        "    for word in mar.split():\n",
        "        if word not in all_marathi_words:\n",
        "            all_marathi_words.add(word)"
      ],
      "metadata": {
        "id": "aNT9HecRz3UK"
      },
      "execution_count": null,
      "outputs": []
    },
    {
      "cell_type": "code",
      "source": [
        "# Max Length of source sequence\n",
        "lenght_list=[]\n",
        "for l in lines.eng:\n",
        "    lenght_list.append(len(l.split(' ')))\n",
        "max_length_src = np.max(lenght_list)\n",
        "max_length_src"
      ],
      "metadata": {
        "colab": {
          "base_uri": "https://localhost:8080/"
        },
        "id": "u18KqjCXz6yy",
        "outputId": "1b45772d-35a8-427f-ede2-325754593bb4"
      },
      "execution_count": null,
      "outputs": [
        {
          "output_type": "execute_result",
          "data": {
            "text/plain": [
              "34"
            ]
          },
          "metadata": {},
          "execution_count": 13
        }
      ]
    },
    {
      "cell_type": "code",
      "source": [
        "# Max Length of target sequence\n",
        "lenght_list=[]\n",
        "for l in lines.mar:\n",
        "    lenght_list.append(len(l.split(' ')))\n",
        "max_length_tar = np.max(lenght_list)\n",
        "max_length_tar"
      ],
      "metadata": {
        "colab": {
          "base_uri": "https://localhost:8080/"
        },
        "id": "B474jgILz81a",
        "outputId": "13fff7b5-9acb-4d73-b98e-713b8353def7"
      },
      "execution_count": null,
      "outputs": [
        {
          "output_type": "execute_result",
          "data": {
            "text/plain": [
              "37"
            ]
          },
          "metadata": {},
          "execution_count": 14
        }
      ]
    },
    {
      "cell_type": "code",
      "source": [
        "input_words = sorted(list(all_eng_words))\n",
        "target_words = sorted(list(all_marathi_words))\n",
        "num_encoder_tokens = len(all_eng_words)\n",
        "num_decoder_tokens = len(all_marathi_words)\n",
        "num_encoder_tokens, num_decoder_tokens"
      ],
      "metadata": {
        "colab": {
          "base_uri": "https://localhost:8080/"
        },
        "id": "-3hxB825z_aK",
        "outputId": "a217ee98-ed6c-4a23-c551-290f8b1b1ba4"
      },
      "execution_count": null,
      "outputs": [
        {
          "output_type": "execute_result",
          "data": {
            "text/plain": [
              "(5690, 13722)"
            ]
          },
          "metadata": {},
          "execution_count": 15
        }
      ]
    },
    {
      "cell_type": "code",
      "source": [
        "num_decoder_tokens += 1 # For zero padding\n",
        "num_decoder_tokens"
      ],
      "metadata": {
        "colab": {
          "base_uri": "https://localhost:8080/"
        },
        "id": "FzGkXyTl0B-z",
        "outputId": "e2ac2b33-4a44-4660-da33-11cfde5216db"
      },
      "execution_count": null,
      "outputs": [
        {
          "output_type": "execute_result",
          "data": {
            "text/plain": [
              "13723"
            ]
          },
          "metadata": {},
          "execution_count": 16
        }
      ]
    },
    {
      "cell_type": "code",
      "source": [
        "input_token_index = dict([(word, i+1) for i, word in enumerate(input_words)])\n",
        "target_token_index = dict([(word, i+1) for i, word in enumerate(target_words)])"
      ],
      "metadata": {
        "id": "ZrI7KAbj0ESy"
      },
      "execution_count": null,
      "outputs": []
    },
    {
      "cell_type": "code",
      "source": [
        "reverse_input_char_index = dict((i, word) for word, i in input_token_index.items())\n",
        "reverse_target_char_index = dict((i, word) for word, i in target_token_index.items())"
      ],
      "metadata": {
        "id": "RDkZW_qu0Hfi"
      },
      "execution_count": null,
      "outputs": []
    },
    {
      "cell_type": "code",
      "source": [
        "lines = shuffle(lines)\n",
        "lines.head(10)"
      ],
      "metadata": {
        "colab": {
          "base_uri": "https://localhost:8080/",
          "height": 363
        },
        "id": "MxxxtGq10JVK",
        "outputId": "0f622438-c25b-44df-b21c-207ef677eaf5"
      },
      "execution_count": null,
      "outputs": [
        {
          "output_type": "execute_result",
          "data": {
            "text/plain": [
              "                                                    eng  \\\n",
              "35552               tom poured himself a glass of water   \n",
              "31509                    what did you do with that book   \n",
              "33987                  tom didnt have to wait that long   \n",
              "633                                          is this it   \n",
              "13246                              can you meet tonight   \n",
              "39139       will someone tell me what has happened here   \n",
              "14754                               tom thinks im crazy   \n",
              "5066                                    tom took my car   \n",
              "5106                                    watch your feet   \n",
              "39966  i never thought tom would do something like that   \n",
              "\n",
              "                                                     mar  \n",
              "35552  START_ टॉमने स्वतःसाठी एक ग्लास पाणी ओतून घेतल...  \n",
              "31509               START_ काय केलंत त्या पुस्तकाचं _END  \n",
              "33987   START_ टॉमला तितक्या वेळ थांबावं लागलं नाही _END  \n",
              "633                                  START_ एवढच का _END  \n",
              "13246         START_ तू मला आज रात्री भेटू शकतेस का _END  \n",
              "39139  START_ कोणी मला सांगेल का की इथे काय झालं आहे ...  \n",
              "14754                START_ टॉमला वाटतं मी वेडी आहे _END  \n",
              "5066                   START_ टॉमने माझी गाडी घेतली _END  \n",
              "5106                             START_ पाय सांभाळा _END  \n",
              "39966  START_ टॉम तसलं काहीतरी करू शकेल याचा मी विचार...  "
            ],
            "text/html": [
              "\n",
              "  <div id=\"df-7bbf4d60-f8c0-4970-85cb-d4894e1fb5b6\">\n",
              "    <div class=\"colab-df-container\">\n",
              "      <div>\n",
              "<style scoped>\n",
              "    .dataframe tbody tr th:only-of-type {\n",
              "        vertical-align: middle;\n",
              "    }\n",
              "\n",
              "    .dataframe tbody tr th {\n",
              "        vertical-align: top;\n",
              "    }\n",
              "\n",
              "    .dataframe thead th {\n",
              "        text-align: right;\n",
              "    }\n",
              "</style>\n",
              "<table border=\"1\" class=\"dataframe\">\n",
              "  <thead>\n",
              "    <tr style=\"text-align: right;\">\n",
              "      <th></th>\n",
              "      <th>eng</th>\n",
              "      <th>mar</th>\n",
              "    </tr>\n",
              "  </thead>\n",
              "  <tbody>\n",
              "    <tr>\n",
              "      <th>35552</th>\n",
              "      <td>tom poured himself a glass of water</td>\n",
              "      <td>START_ टॉमने स्वतःसाठी एक ग्लास पाणी ओतून घेतल...</td>\n",
              "    </tr>\n",
              "    <tr>\n",
              "      <th>31509</th>\n",
              "      <td>what did you do with that book</td>\n",
              "      <td>START_ काय केलंत त्या पुस्तकाचं _END</td>\n",
              "    </tr>\n",
              "    <tr>\n",
              "      <th>33987</th>\n",
              "      <td>tom didnt have to wait that long</td>\n",
              "      <td>START_ टॉमला तितक्या वेळ थांबावं लागलं नाही _END</td>\n",
              "    </tr>\n",
              "    <tr>\n",
              "      <th>633</th>\n",
              "      <td>is this it</td>\n",
              "      <td>START_ एवढच का _END</td>\n",
              "    </tr>\n",
              "    <tr>\n",
              "      <th>13246</th>\n",
              "      <td>can you meet tonight</td>\n",
              "      <td>START_ तू मला आज रात्री भेटू शकतेस का _END</td>\n",
              "    </tr>\n",
              "    <tr>\n",
              "      <th>39139</th>\n",
              "      <td>will someone tell me what has happened here</td>\n",
              "      <td>START_ कोणी मला सांगेल का की इथे काय झालं आहे ...</td>\n",
              "    </tr>\n",
              "    <tr>\n",
              "      <th>14754</th>\n",
              "      <td>tom thinks im crazy</td>\n",
              "      <td>START_ टॉमला वाटतं मी वेडी आहे _END</td>\n",
              "    </tr>\n",
              "    <tr>\n",
              "      <th>5066</th>\n",
              "      <td>tom took my car</td>\n",
              "      <td>START_ टॉमने माझी गाडी घेतली _END</td>\n",
              "    </tr>\n",
              "    <tr>\n",
              "      <th>5106</th>\n",
              "      <td>watch your feet</td>\n",
              "      <td>START_ पाय सांभाळा _END</td>\n",
              "    </tr>\n",
              "    <tr>\n",
              "      <th>39966</th>\n",
              "      <td>i never thought tom would do something like that</td>\n",
              "      <td>START_ टॉम तसलं काहीतरी करू शकेल याचा मी विचार...</td>\n",
              "    </tr>\n",
              "  </tbody>\n",
              "</table>\n",
              "</div>\n",
              "      <button class=\"colab-df-convert\" onclick=\"convertToInteractive('df-7bbf4d60-f8c0-4970-85cb-d4894e1fb5b6')\"\n",
              "              title=\"Convert this dataframe to an interactive table.\"\n",
              "              style=\"display:none;\">\n",
              "        \n",
              "  <svg xmlns=\"http://www.w3.org/2000/svg\" height=\"24px\"viewBox=\"0 0 24 24\"\n",
              "       width=\"24px\">\n",
              "    <path d=\"M0 0h24v24H0V0z\" fill=\"none\"/>\n",
              "    <path d=\"M18.56 5.44l.94 2.06.94-2.06 2.06-.94-2.06-.94-.94-2.06-.94 2.06-2.06.94zm-11 1L8.5 8.5l.94-2.06 2.06-.94-2.06-.94L8.5 2.5l-.94 2.06-2.06.94zm10 10l.94 2.06.94-2.06 2.06-.94-2.06-.94-.94-2.06-.94 2.06-2.06.94z\"/><path d=\"M17.41 7.96l-1.37-1.37c-.4-.4-.92-.59-1.43-.59-.52 0-1.04.2-1.43.59L10.3 9.45l-7.72 7.72c-.78.78-.78 2.05 0 2.83L4 21.41c.39.39.9.59 1.41.59.51 0 1.02-.2 1.41-.59l7.78-7.78 2.81-2.81c.8-.78.8-2.07 0-2.86zM5.41 20L4 18.59l7.72-7.72 1.47 1.35L5.41 20z\"/>\n",
              "  </svg>\n",
              "      </button>\n",
              "      \n",
              "  <style>\n",
              "    .colab-df-container {\n",
              "      display:flex;\n",
              "      flex-wrap:wrap;\n",
              "      gap: 12px;\n",
              "    }\n",
              "\n",
              "    .colab-df-convert {\n",
              "      background-color: #E8F0FE;\n",
              "      border: none;\n",
              "      border-radius: 50%;\n",
              "      cursor: pointer;\n",
              "      display: none;\n",
              "      fill: #1967D2;\n",
              "      height: 32px;\n",
              "      padding: 0 0 0 0;\n",
              "      width: 32px;\n",
              "    }\n",
              "\n",
              "    .colab-df-convert:hover {\n",
              "      background-color: #E2EBFA;\n",
              "      box-shadow: 0px 1px 2px rgba(60, 64, 67, 0.3), 0px 1px 3px 1px rgba(60, 64, 67, 0.15);\n",
              "      fill: #174EA6;\n",
              "    }\n",
              "\n",
              "    [theme=dark] .colab-df-convert {\n",
              "      background-color: #3B4455;\n",
              "      fill: #D2E3FC;\n",
              "    }\n",
              "\n",
              "    [theme=dark] .colab-df-convert:hover {\n",
              "      background-color: #434B5C;\n",
              "      box-shadow: 0px 1px 3px 1px rgba(0, 0, 0, 0.15);\n",
              "      filter: drop-shadow(0px 1px 2px rgba(0, 0, 0, 0.3));\n",
              "      fill: #FFFFFF;\n",
              "    }\n",
              "  </style>\n",
              "\n",
              "      <script>\n",
              "        const buttonEl =\n",
              "          document.querySelector('#df-7bbf4d60-f8c0-4970-85cb-d4894e1fb5b6 button.colab-df-convert');\n",
              "        buttonEl.style.display =\n",
              "          google.colab.kernel.accessAllowed ? 'block' : 'none';\n",
              "\n",
              "        async function convertToInteractive(key) {\n",
              "          const element = document.querySelector('#df-7bbf4d60-f8c0-4970-85cb-d4894e1fb5b6');\n",
              "          const dataTable =\n",
              "            await google.colab.kernel.invokeFunction('convertToInteractive',\n",
              "                                                     [key], {});\n",
              "          if (!dataTable) return;\n",
              "\n",
              "          const docLinkHtml = 'Like what you see? Visit the ' +\n",
              "            '<a target=\"_blank\" href=https://colab.research.google.com/notebooks/data_table.ipynb>data table notebook</a>'\n",
              "            + ' to learn more about interactive tables.';\n",
              "          element.innerHTML = '';\n",
              "          dataTable['output_type'] = 'display_data';\n",
              "          await google.colab.output.renderOutput(dataTable, element);\n",
              "          const docLink = document.createElement('div');\n",
              "          docLink.innerHTML = docLinkHtml;\n",
              "          element.appendChild(docLink);\n",
              "        }\n",
              "      </script>\n",
              "    </div>\n",
              "  </div>\n",
              "  "
            ]
          },
          "metadata": {},
          "execution_count": 19
        }
      ]
    },
    {
      "cell_type": "markdown",
      "source": [
        "4. Splitting the Data For Model"
      ],
      "metadata": {
        "id": "nFzVzBLWhYij"
      }
    },
    {
      "cell_type": "code",
      "source": [
        "# Train - Test Split\n",
        "X, y = lines.eng, lines.mar\n",
        "X_train, X_test, y_train, y_test = train_test_split(X, y, test_size = 0.1)\n",
        "X_train.shape, X_test.shape"
      ],
      "metadata": {
        "colab": {
          "base_uri": "https://localhost:8080/"
        },
        "id": "WNGgCTTj0LsC",
        "outputId": "f49516ee-e685-480d-930e-e7d4e90f0024"
      },
      "execution_count": null,
      "outputs": [
        {
          "output_type": "execute_result",
          "data": {
            "text/plain": [
              "((36925,), (4103,))"
            ]
          },
          "metadata": {},
          "execution_count": 20
        }
      ]
    },
    {
      "cell_type": "markdown",
      "source": [
        "5. One Hot Encodeing The Data"
      ],
      "metadata": {
        "id": "2GjvEGvfhj3k"
      }
    },
    {
      "cell_type": "code",
      "source": [
        "def generate_batch(X = X_train, y = y_train, batch_size = 128):\n",
        "    ''' Generate a batch of data '''\n",
        "    while True:\n",
        "        for j in range(0, len(X), batch_size):\n",
        "            encoder_input_data = np.zeros((batch_size, max_length_src),dtype='float32')\n",
        "            decoder_input_data = np.zeros((batch_size, max_length_tar),dtype='float32')\n",
        "            decoder_target_data = np.zeros((batch_size, max_length_tar, num_decoder_tokens),dtype='float32')\n",
        "            for i, (input_text, target_text) in enumerate(zip(X[j:j+batch_size], y[j:j+batch_size])):\n",
        "                for t, word in enumerate(input_text.split()):\n",
        "                    encoder_input_data[i, t] = input_token_index[word] # encoder input seq\n",
        "                for t, word in enumerate(target_text.split()):\n",
        "                    if t<len(target_text.split())-1:\n",
        "                        decoder_input_data[i, t] = target_token_index[word] # decoder input seq\n",
        "                    if t>0:\n",
        "                        # decoder target sequence (one hot encoded)\n",
        "                        # does not include the START_ token\n",
        "                        # Offset by one timestep\n",
        "                        decoder_target_data[i, t - 1, target_token_index[word]] = 1.\n",
        "            yield([encoder_input_data, decoder_input_data], decoder_target_data)"
      ],
      "metadata": {
        "id": "NhA2yzuZ0eIS"
      },
      "execution_count": null,
      "outputs": []
    },
    {
      "cell_type": "code",
      "source": [
        "latent_dim = 50"
      ],
      "metadata": {
        "id": "xk5RqFKM0nD6"
      },
      "execution_count": null,
      "outputs": []
    },
    {
      "cell_type": "markdown",
      "source": [
        "6. Encoder-Decoder Model Execution"
      ],
      "metadata": {
        "id": "zptbmqtrhp6U"
      }
    },
    {
      "cell_type": "code",
      "source": [
        "# Encoder\n",
        "encoder_inputs = Input(shape=(None,))\n",
        "enc_emb =  Embedding(num_encoder_tokens + 1, latent_dim, mask_zero = True)(encoder_inputs)\n",
        "encoder_lstm = LSTM(latent_dim, return_state=True)\n",
        "encoder_outputs, state_h, state_c = encoder_lstm(enc_emb)\n",
        "# We discard `encoder_outputs` and only keep the states.\n",
        "encoder_states = [state_h, state_c]"
      ],
      "metadata": {
        "id": "vd8fj2JM008q"
      },
      "execution_count": null,
      "outputs": []
    },
    {
      "cell_type": "code",
      "source": [
        "# Set up the decoder, using `encoder_states` as initial state.\n",
        "decoder_inputs = Input(shape=(None,))\n",
        "dec_emb_layer = Embedding(num_decoder_tokens, latent_dim, mask_zero = True)\n",
        "dec_emb = dec_emb_layer(decoder_inputs)\n",
        "# We set up our decoder to return full output sequences,\n",
        "# and to return internal states as well. We don't use the\n",
        "# return states in the training model, but we will use them in inference.\n",
        "decoder_lstm = LSTM(latent_dim, return_sequences=True, return_state=True)\n",
        "decoder_outputs, _, _ = decoder_lstm(dec_emb,\n",
        "                                     initial_state=encoder_states)\n",
        "decoder_dense = Dense(num_decoder_tokens, activation='softmax')\n",
        "decoder_outputs = decoder_dense(decoder_outputs)\n",
        "\n",
        "# Define the model that will turn\n",
        "# `encoder_input_data` & `decoder_input_data` into `decoder_target_data`\n",
        "model = Model([encoder_inputs, decoder_inputs], decoder_outputs)"
      ],
      "metadata": {
        "id": "S-T-j1xV5Whx"
      },
      "execution_count": null,
      "outputs": []
    },
    {
      "cell_type": "code",
      "source": [
        "model.compile(optimizer='rmsprop', loss='categorical_crossentropy', metrics=['acc'])"
      ],
      "metadata": {
        "id": "XhE9OeYP5b4J"
      },
      "execution_count": null,
      "outputs": []
    },
    {
      "cell_type": "code",
      "source": [
        "model.summary()"
      ],
      "metadata": {
        "colab": {
          "base_uri": "https://localhost:8080/"
        },
        "id": "hXVXhIJn5sax",
        "outputId": "8dbe5e84-bdf7-43f2-e342-2ca5c53c9552"
      },
      "execution_count": null,
      "outputs": [
        {
          "output_type": "stream",
          "name": "stdout",
          "text": [
            "Model: \"model\"\n",
            "__________________________________________________________________________________________________\n",
            " Layer (type)                   Output Shape         Param #     Connected to                     \n",
            "==================================================================================================\n",
            " input_1 (InputLayer)           [(None, None)]       0           []                               \n",
            "                                                                                                  \n",
            " input_2 (InputLayer)           [(None, None)]       0           []                               \n",
            "                                                                                                  \n",
            " embedding (Embedding)          (None, None, 50)     284550      ['input_1[0][0]']                \n",
            "                                                                                                  \n",
            " embedding_1 (Embedding)        (None, None, 50)     686150      ['input_2[0][0]']                \n",
            "                                                                                                  \n",
            " lstm (LSTM)                    [(None, 50),         20200       ['embedding[0][0]']              \n",
            "                                 (None, 50),                                                      \n",
            "                                 (None, 50)]                                                      \n",
            "                                                                                                  \n",
            " lstm_1 (LSTM)                  [(None, None, 50),   20200       ['embedding_1[0][0]',            \n",
            "                                 (None, 50),                      'lstm[0][1]',                   \n",
            "                                 (None, 50)]                      'lstm[0][2]']                   \n",
            "                                                                                                  \n",
            " dense (Dense)                  (None, None, 13723)  699873      ['lstm_1[0][0]']                 \n",
            "                                                                                                  \n",
            "==================================================================================================\n",
            "Total params: 1,710,973\n",
            "Trainable params: 1,710,973\n",
            "Non-trainable params: 0\n",
            "__________________________________________________________________________________________________\n"
          ]
        }
      ]
    },
    {
      "cell_type": "code",
      "source": [
        "train_samples = len(X_train)\n",
        "val_samples = len(X_test)\n",
        "batch_size = 128\n",
        "epochs = 50"
      ],
      "metadata": {
        "id": "mjFHmFYQ5fPB"
      },
      "execution_count": null,
      "outputs": []
    },
    {
      "cell_type": "code",
      "source": [
        "model.fit(generate_batch(X_train, y_train, batch_size = batch_size),\n",
        "                    steps_per_epoch = train_samples//batch_size,\n",
        "                    epochs=epochs,\n",
        "                    validation_data = generate_batch(X_test, y_test, batch_size = batch_size),\n",
        "                    validation_steps = val_samples//batch_size)"
      ],
      "metadata": {
        "colab": {
          "base_uri": "https://localhost:8080/"
        },
        "id": "UDRW2y5v5hJB",
        "outputId": "8db9b083-767d-4475-b83c-547ddd4c4aec"
      },
      "execution_count": null,
      "outputs": [
        {
          "output_type": "stream",
          "name": "stdout",
          "text": [
            "Epoch 1/50\n",
            "288/288 [==============================] - 76s 223ms/step - loss: 0.9812 - acc: 0.1774 - val_loss: 0.8838 - val_acc: 0.1974\n",
            "Epoch 2/50\n",
            "288/288 [==============================] - 62s 214ms/step - loss: 0.8500 - acc: 0.2091 - val_loss: 0.8328 - val_acc: 0.2288\n",
            "Epoch 3/50\n",
            "288/288 [==============================] - 62s 214ms/step - loss: 0.8045 - acc: 0.2423 - val_loss: 0.7995 - val_acc: 0.2532\n",
            "Epoch 4/50\n",
            "288/288 [==============================] - 62s 214ms/step - loss: 0.7725 - acc: 0.2609 - val_loss: 0.7740 - val_acc: 0.2692\n",
            "Epoch 5/50\n",
            "288/288 [==============================] - 61s 213ms/step - loss: 0.7442 - acc: 0.2802 - val_loss: 0.7485 - val_acc: 0.2870\n",
            "Epoch 6/50\n",
            "288/288 [==============================] - 61s 214ms/step - loss: 0.7185 - acc: 0.2993 - val_loss: 0.7272 - val_acc: 0.3052\n",
            "Epoch 7/50\n",
            "288/288 [==============================] - 61s 213ms/step - loss: 0.6947 - acc: 0.3174 - val_loss: 0.7078 - val_acc: 0.3213\n",
            "Epoch 8/50\n",
            "288/288 [==============================] - 62s 214ms/step - loss: 0.6722 - acc: 0.3350 - val_loss: 0.6889 - val_acc: 0.3379\n",
            "Epoch 9/50\n",
            "288/288 [==============================] - 62s 214ms/step - loss: 0.6517 - acc: 0.3511 - val_loss: 0.6728 - val_acc: 0.3500\n",
            "Epoch 10/50\n",
            "288/288 [==============================] - 61s 212ms/step - loss: 0.6328 - acc: 0.3666 - val_loss: 0.6575 - val_acc: 0.3617\n",
            "Epoch 11/50\n",
            "288/288 [==============================] - 62s 214ms/step - loss: 0.6151 - acc: 0.3805 - val_loss: 0.6444 - val_acc: 0.3761\n",
            "Epoch 12/50\n",
            "288/288 [==============================] - 61s 212ms/step - loss: 0.5989 - acc: 0.3938 - val_loss: 0.6302 - val_acc: 0.3867\n",
            "Epoch 13/50\n",
            "288/288 [==============================] - 61s 211ms/step - loss: 0.5826 - acc: 0.4064 - val_loss: 0.6178 - val_acc: 0.3985\n",
            "Epoch 14/50\n",
            "288/288 [==============================] - 61s 213ms/step - loss: 0.5675 - acc: 0.4192 - val_loss: 0.6069 - val_acc: 0.4070\n",
            "Epoch 15/50\n",
            "288/288 [==============================] - 61s 213ms/step - loss: 0.5532 - acc: 0.4313 - val_loss: 0.5955 - val_acc: 0.4172\n",
            "Epoch 16/50\n",
            "288/288 [==============================] - 61s 213ms/step - loss: 0.5395 - acc: 0.4440 - val_loss: 0.5855 - val_acc: 0.4267\n",
            "Epoch 17/50\n",
            "288/288 [==============================] - 61s 212ms/step - loss: 0.5270 - acc: 0.4549 - val_loss: 0.5753 - val_acc: 0.4355\n",
            "Epoch 18/50\n",
            "288/288 [==============================] - 61s 212ms/step - loss: 0.5152 - acc: 0.4656 - val_loss: 0.5667 - val_acc: 0.4423\n",
            "Epoch 19/50\n",
            "288/288 [==============================] - 61s 212ms/step - loss: 0.5042 - acc: 0.4758 - val_loss: 0.5603 - val_acc: 0.4469\n",
            "Epoch 20/50\n",
            "288/288 [==============================] - 61s 213ms/step - loss: 0.4937 - acc: 0.4864 - val_loss: 0.5527 - val_acc: 0.4563\n",
            "Epoch 21/50\n",
            "288/288 [==============================] - 61s 213ms/step - loss: 0.4843 - acc: 0.4955 - val_loss: 0.5459 - val_acc: 0.4620\n",
            "Epoch 22/50\n",
            "288/288 [==============================] - 61s 212ms/step - loss: 0.4746 - acc: 0.5057 - val_loss: 0.5403 - val_acc: 0.4697\n",
            "Epoch 23/50\n",
            "288/288 [==============================] - 61s 212ms/step - loss: 0.4661 - acc: 0.5144 - val_loss: 0.5352 - val_acc: 0.4740\n",
            "Epoch 24/50\n",
            "288/288 [==============================] - 61s 212ms/step - loss: 0.4578 - acc: 0.5229 - val_loss: 0.5290 - val_acc: 0.4792\n",
            "Epoch 25/50\n",
            "288/288 [==============================] - 61s 212ms/step - loss: 0.4498 - acc: 0.5309 - val_loss: 0.5242 - val_acc: 0.4851\n",
            "Epoch 26/50\n",
            "288/288 [==============================] - 61s 213ms/step - loss: 0.4419 - acc: 0.5386 - val_loss: 0.5200 - val_acc: 0.4891\n",
            "Epoch 27/50\n",
            "288/288 [==============================] - 61s 213ms/step - loss: 0.4343 - acc: 0.5464 - val_loss: 0.5148 - val_acc: 0.4896\n",
            "Epoch 28/50\n",
            "288/288 [==============================] - 61s 211ms/step - loss: 0.4269 - acc: 0.5539 - val_loss: 0.5097 - val_acc: 0.4964\n",
            "Epoch 29/50\n",
            "288/288 [==============================] - 61s 212ms/step - loss: 0.4202 - acc: 0.5604 - val_loss: 0.5063 - val_acc: 0.5004\n",
            "Epoch 30/50\n",
            "288/288 [==============================] - 61s 212ms/step - loss: 0.4139 - acc: 0.5665 - val_loss: 0.5026 - val_acc: 0.5024\n",
            "Epoch 31/50\n",
            "288/288 [==============================] - 61s 212ms/step - loss: 0.4082 - acc: 0.5734 - val_loss: 0.5002 - val_acc: 0.5061\n",
            "Epoch 32/50\n",
            "288/288 [==============================] - 61s 214ms/step - loss: 0.4029 - acc: 0.5789 - val_loss: 0.4974 - val_acc: 0.5094\n",
            "Epoch 33/50\n",
            "288/288 [==============================] - 62s 214ms/step - loss: 0.3981 - acc: 0.5847 - val_loss: 0.4949 - val_acc: 0.5132\n",
            "Epoch 34/50\n",
            "288/288 [==============================] - 61s 213ms/step - loss: 0.3935 - acc: 0.5904 - val_loss: 0.4932 - val_acc: 0.5149\n",
            "Epoch 35/50\n",
            "288/288 [==============================] - 61s 214ms/step - loss: 0.3890 - acc: 0.5956 - val_loss: 0.4908 - val_acc: 0.5174\n",
            "Epoch 36/50\n",
            "288/288 [==============================] - 61s 213ms/step - loss: 0.3847 - acc: 0.6009 - val_loss: 0.4894 - val_acc: 0.5186\n",
            "Epoch 37/50\n",
            "288/288 [==============================] - 61s 213ms/step - loss: 0.3808 - acc: 0.6052 - val_loss: 0.4878 - val_acc: 0.5187\n",
            "Epoch 38/50\n",
            "288/288 [==============================] - 62s 214ms/step - loss: 0.3768 - acc: 0.6103 - val_loss: 0.4864 - val_acc: 0.5214\n",
            "Epoch 39/50\n",
            "288/288 [==============================] - 62s 214ms/step - loss: 0.3729 - acc: 0.6143 - val_loss: 0.4846 - val_acc: 0.5252\n",
            "Epoch 40/50\n",
            "288/288 [==============================] - 61s 213ms/step - loss: 0.3693 - acc: 0.6186 - val_loss: 0.4842 - val_acc: 0.5248\n",
            "Epoch 41/50\n",
            "288/288 [==============================] - 61s 213ms/step - loss: 0.3655 - acc: 0.6230 - val_loss: 0.4820 - val_acc: 0.5266\n",
            "Epoch 42/50\n",
            "288/288 [==============================] - 61s 213ms/step - loss: 0.3620 - acc: 0.6269 - val_loss: 0.4807 - val_acc: 0.5295\n",
            "Epoch 43/50\n",
            "288/288 [==============================] - 61s 213ms/step - loss: 0.3585 - acc: 0.6305 - val_loss: 0.4782 - val_acc: 0.5306\n",
            "Epoch 44/50\n",
            "288/288 [==============================] - 61s 213ms/step - loss: 0.3551 - acc: 0.6336 - val_loss: 0.4770 - val_acc: 0.5313\n",
            "Epoch 45/50\n",
            "288/288 [==============================] - 62s 214ms/step - loss: 0.3515 - acc: 0.6373 - val_loss: 0.4754 - val_acc: 0.5330\n",
            "Epoch 46/50\n",
            "288/288 [==============================] - 61s 213ms/step - loss: 0.3482 - acc: 0.6407 - val_loss: 0.4745 - val_acc: 0.5322\n",
            "Epoch 47/50\n",
            "288/288 [==============================] - 61s 213ms/step - loss: 0.3445 - acc: 0.6440 - val_loss: 0.4713 - val_acc: 0.5355\n",
            "Epoch 48/50\n",
            "288/288 [==============================] - 61s 214ms/step - loss: 0.3413 - acc: 0.6472 - val_loss: 0.4704 - val_acc: 0.5347\n",
            "Epoch 49/50\n",
            "288/288 [==============================] - 61s 214ms/step - loss: 0.3377 - acc: 0.6507 - val_loss: 0.4686 - val_acc: 0.5359\n",
            "Epoch 50/50\n",
            "288/288 [==============================] - 61s 212ms/step - loss: 0.3349 - acc: 0.6532 - val_loss: 0.4675 - val_acc: 0.5375\n"
          ]
        },
        {
          "output_type": "execute_result",
          "data": {
            "text/plain": [
              "<keras.callbacks.History at 0x7f6b106f1b20>"
            ]
          },
          "metadata": {},
          "execution_count": 28
        }
      ]
    },
    {
      "cell_type": "code",
      "source": [
        "model.save_weights('nmt_weights.h5')"
      ],
      "metadata": {
        "id": "Ixbouhp7532p"
      },
      "execution_count": null,
      "outputs": []
    },
    {
      "cell_type": "code",
      "source": [
        "model.load_weights('nmt_weights.h5')"
      ],
      "metadata": {
        "id": "ry_HZEnJfVmx"
      },
      "execution_count": null,
      "outputs": []
    },
    {
      "cell_type": "markdown",
      "source": [
        "Encoding & Decoding"
      ],
      "metadata": {
        "id": "7dcD29mGh_SL"
      }
    },
    {
      "cell_type": "code",
      "source": [
        "# Encode the input sequence to get the \"thought vectors\"\n",
        "encoder_model = Model(encoder_inputs, encoder_states)\n",
        "\n",
        "# Decoder setup\n",
        "# Below tensors will hold the states of the previous time step\n",
        "decoder_state_input_h = Input(shape=(latent_dim,))\n",
        "decoder_state_input_c = Input(shape=(latent_dim,))\n",
        "decoder_states_inputs = [decoder_state_input_h, decoder_state_input_c]\n",
        "\n",
        "dec_emb2= dec_emb_layer(decoder_inputs) # Get the embeddings of the decoder sequence\n",
        "\n",
        "# To predict the next word in the sequence, set the initial states to the states from the previous time step\n",
        "decoder_outputs2, state_h2, state_c2 = decoder_lstm(dec_emb2, initial_state=decoder_states_inputs)\n",
        "decoder_states2 = [state_h2, state_c2]\n",
        "decoder_outputs2 = decoder_dense(decoder_outputs2) # A dense softmax layer to generate prob dist. over the target vocabulary\n",
        "\n",
        "# Final decoder model\n",
        "decoder_model = Model(\n",
        "    [decoder_inputs] + decoder_states_inputs,\n",
        "    [decoder_outputs2] + decoder_states2)"
      ],
      "metadata": {
        "id": "fcYETh8OfZ1Y"
      },
      "execution_count": null,
      "outputs": []
    },
    {
      "cell_type": "code",
      "source": [
        "def decode_sequence(input_seq):\n",
        "    # Encode the input as state vectors.\n",
        "    states_value = encoder_model.predict(input_seq)\n",
        "    # Generate empty target sequence of length 1.\n",
        "    target_seq = np.zeros((1,1))\n",
        "    # Populate the first character of target sequence with the start character.\n",
        "    target_seq[0, 0] = target_token_index['START_']\n",
        "\n",
        "    # Sampling loop for a batch of sequences\n",
        "    # (to simplify, here we assume a batch of size 1).\n",
        "    stop_condition = False\n",
        "    decoded_sentence = ''\n",
        "    while not stop_condition:\n",
        "        output_tokens, h, c = decoder_model.predict([target_seq] + states_value)\n",
        "\n",
        "        # Sample a token\n",
        "        sampled_token_index = np.argmax(output_tokens[0, -1, :])\n",
        "        sampled_char = reverse_target_char_index[sampled_token_index]\n",
        "        decoded_sentence += ' '+sampled_char\n",
        "\n",
        "        # Exit condition: either hit max length\n",
        "        # or find stop character.\n",
        "        if (sampled_char == '_END' or\n",
        "           len(decoded_sentence) > 50):\n",
        "            stop_condition = True\n",
        "\n",
        "        # Update the target sequence (of length 1).\n",
        "        target_seq = np.zeros((1,1))\n",
        "        target_seq[0, 0] = sampled_token_index\n",
        "\n",
        "        # Update states\n",
        "        states_value = [h, c]\n",
        "\n",
        "    return decoded_sentence"
      ],
      "metadata": {
        "id": "maNSnzr9fdVA"
      },
      "execution_count": null,
      "outputs": []
    },
    {
      "cell_type": "markdown",
      "source": [
        "Train Data Predictions"
      ],
      "metadata": {
        "id": "WtcT8zmWiFcP"
      }
    },
    {
      "cell_type": "code",
      "source": [
        "train_gen = generate_batch(X_train, y_train, batch_size = 1)\n",
        "k=-1"
      ],
      "metadata": {
        "id": "z162UInQfm2x"
      },
      "execution_count": null,
      "outputs": []
    },
    {
      "cell_type": "code",
      "source": [
        "k+=1\n",
        "(input_seq, actual_output), _ = next(train_gen)\n",
        "decoded_sentence = decode_sequence(input_seq)\n",
        "print('Input English sentence:', X_train[k:k+1].values[0])\n",
        "print('Actual Marathi Translation:', y_train[k:k+1].values[0][6:-4])\n",
        "print('Predicted Marathi Translation:', decoded_sentence[:-4])"
      ],
      "metadata": {
        "colab": {
          "base_uri": "https://localhost:8080/"
        },
        "id": "Zs9EjmCvfpYA",
        "outputId": "5bcb9466-6cf7-4b3b-8e6e-0c271068882f"
      },
      "execution_count": null,
      "outputs": [
        {
          "output_type": "stream",
          "name": "stdout",
          "text": [
            "1/1 [==============================] - 2s 2s/step\n",
            "1/1 [==============================] - 1s 1s/step\n",
            "1/1 [==============================] - 0s 17ms/step\n",
            "1/1 [==============================] - 0s 16ms/step\n",
            "1/1 [==============================] - 0s 15ms/step\n",
            "Input English sentence: she lives in yokohama\n",
            "Actual Marathi Translation:  ती योकोहामामध्ये राहते \n",
            "Predicted Marathi Translation:  ती शहरात राहतात \n"
          ]
        }
      ]
    },
    {
      "cell_type": "markdown",
      "source": [
        "Validation Data Prediction"
      ],
      "metadata": {
        "id": "tVfgreESiNIQ"
      }
    },
    {
      "cell_type": "code",
      "source": [
        "val_gen = generate_batch(X_test, y_test, batch_size = 1)\n",
        "k=-1"
      ],
      "metadata": {
        "id": "CUaE8Ninf7GQ"
      },
      "execution_count": null,
      "outputs": []
    },
    {
      "cell_type": "code",
      "source": [
        "k+=1\n",
        "(input_seq, actual_output), _ = next(val_gen)\n",
        "decoded_sentence = decode_sequence(input_seq)\n",
        "print('Input English sentence:', X_test[k:k+1].values[0])\n",
        "print('Actual Marathi Translation:', y_test[k:k+1].values[0][6:-4])\n",
        "print('Predicted Marathi Translation:', decoded_sentence[:-4])"
      ],
      "metadata": {
        "colab": {
          "base_uri": "https://localhost:8080/"
        },
        "id": "K4iuLjhHgEGo",
        "outputId": "bb5f4356-3a3e-4528-85bd-d716c2f9fc8c"
      },
      "execution_count": null,
      "outputs": [
        {
          "output_type": "stream",
          "name": "stdout",
          "text": [
            "1/1 [==============================] - 0s 23ms/step\n",
            "1/1 [==============================] - 0s 17ms/step\n",
            "1/1 [==============================] - 0s 15ms/step\n",
            "1/1 [==============================] - 0s 16ms/step\n",
            "1/1 [==============================] - 0s 16ms/step\n",
            "1/1 [==============================] - 0s 20ms/step\n",
            "Input English sentence: whose books are these\n",
            "Actual Marathi Translation:  ही पुस्तकं कोणाची आहेत \n",
            "Predicted Marathi Translation:  ही पुस्तकं कोणाची आहेत \n"
          ]
        }
      ]
    },
    {
      "cell_type": "code",
      "source": [],
      "metadata": {
        "id": "1l00EI9egZlI"
      },
      "execution_count": null,
      "outputs": []
    }
  ]
}